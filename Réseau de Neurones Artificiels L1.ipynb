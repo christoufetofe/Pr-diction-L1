{
 "cells": [
  {
   "cell_type": "code",
   "execution_count": 102,
   "id": "a6f20e24",
   "metadata": {},
   "outputs": [],
   "source": [
    "import numpy as np\n",
    "import pandas as pd\n",
    "import tensorflow as tf\n",
    "import matplotlib.pyplot as plt\n",
    "\n",
    "from sklearn.preprocessing import StandardScaler\n",
    "from sklearn.model_selection import train_test_split\n",
    "from tensorflow.keras.models import Sequential\n",
    "from tensorflow.keras.layers import Dense,Activation\n",
    "from sklearn.model_selection import KFold"
   ]
  },
  {
   "cell_type": "markdown",
   "id": "646c4ccc",
   "metadata": {},
   "source": [
    "# 1.Chargement de data et analyse"
   ]
  },
  {
   "cell_type": "code",
   "execution_count": 103,
   "id": "6b61ac4b",
   "metadata": {},
   "outputs": [],
   "source": [
    "#Récupération des datas du fichier CSV"
   ]
  },
  {
   "cell_type": "code",
   "execution_count": 104,
   "id": "7b4e88d0",
   "metadata": {},
   "outputs": [],
   "source": [
    "Ligue1=pd.read_csv(\"Data/RegroupSortie.csv\",sep=';',encoding = \"ISO-8859-1\")"
   ]
  },
  {
   "cell_type": "code",
   "execution_count": 105,
   "id": "233dd392",
   "metadata": {},
   "outputs": [],
   "source": [
    "#Affichage du dataframe"
   ]
  },
  {
   "cell_type": "code",
   "execution_count": 106,
   "id": "4f94b996",
   "metadata": {},
   "outputs": [
    {
     "data": {
      "text/html": [
       "<div>\n",
       "<style scoped>\n",
       "    .dataframe tbody tr th:only-of-type {\n",
       "        vertical-align: middle;\n",
       "    }\n",
       "\n",
       "    .dataframe tbody tr th {\n",
       "        vertical-align: top;\n",
       "    }\n",
       "\n",
       "    .dataframe thead th {\n",
       "        text-align: right;\n",
       "    }\n",
       "</style>\n",
       "<table border=\"1\" class=\"dataframe\">\n",
       "  <thead>\n",
       "    <tr style=\"text-align: right;\">\n",
       "      <th></th>\n",
       "      <th>Team</th>\n",
       "      <th>Position</th>\n",
       "      <th>NbMatchGagne</th>\n",
       "      <th>NbMatchNul</th>\n",
       "      <th>NbMatchPerdu</th>\n",
       "      <th>NbButMis</th>\n",
       "      <th>NbButEnc</th>\n",
       "      <th>Forme5</th>\n",
       "      <th>Forme4</th>\n",
       "      <th>Forme3</th>\n",
       "      <th>...</th>\n",
       "      <th>Forme4_away</th>\n",
       "      <th>Forme3_away</th>\n",
       "      <th>Forme2_away</th>\n",
       "      <th>Forme1_away</th>\n",
       "      <th>Sante_away</th>\n",
       "      <th>home_score</th>\n",
       "      <th>away_score</th>\n",
       "      <th>saison</th>\n",
       "      <th>Journee</th>\n",
       "      <th>result</th>\n",
       "    </tr>\n",
       "  </thead>\n",
       "  <tbody>\n",
       "    <tr>\n",
       "      <th>0</th>\n",
       "      <td>AS MONACO</td>\n",
       "      <td>6.0</td>\n",
       "      <td>3.0</td>\n",
       "      <td>0.0</td>\n",
       "      <td>2.0</td>\n",
       "      <td>9.0</td>\n",
       "      <td>5.0</td>\n",
       "      <td>1.0</td>\n",
       "      <td>5.0</td>\n",
       "      <td>1.0</td>\n",
       "      <td>...</td>\n",
       "      <td>1.0</td>\n",
       "      <td>3.0</td>\n",
       "      <td>3.0</td>\n",
       "      <td>5.0</td>\n",
       "      <td>10.0</td>\n",
       "      <td>0</td>\n",
       "      <td>0</td>\n",
       "      <td>1993-1994</td>\n",
       "      <td>6</td>\n",
       "      <td>0</td>\n",
       "    </tr>\n",
       "    <tr>\n",
       "      <th>1</th>\n",
       "      <td>A.S. CANNES</td>\n",
       "      <td>1.0</td>\n",
       "      <td>3.0</td>\n",
       "      <td>2.0</td>\n",
       "      <td>0.0</td>\n",
       "      <td>8.0</td>\n",
       "      <td>5.0</td>\n",
       "      <td>5.0</td>\n",
       "      <td>5.0</td>\n",
       "      <td>3.0</td>\n",
       "      <td>...</td>\n",
       "      <td>3.0</td>\n",
       "      <td>5.0</td>\n",
       "      <td>1.0</td>\n",
       "      <td>1.0</td>\n",
       "      <td>10.0</td>\n",
       "      <td>1</td>\n",
       "      <td>1</td>\n",
       "      <td>1993-1994</td>\n",
       "      <td>6</td>\n",
       "      <td>0</td>\n",
       "    </tr>\n",
       "    <tr>\n",
       "      <th>2</th>\n",
       "      <td>AS SAINT-ÉTIENNE</td>\n",
       "      <td>13.0</td>\n",
       "      <td>1.0</td>\n",
       "      <td>2.0</td>\n",
       "      <td>2.0</td>\n",
       "      <td>5.0</td>\n",
       "      <td>5.0</td>\n",
       "      <td>1.0</td>\n",
       "      <td>1.0</td>\n",
       "      <td>5.0</td>\n",
       "      <td>...</td>\n",
       "      <td>5.0</td>\n",
       "      <td>3.0</td>\n",
       "      <td>1.0</td>\n",
       "      <td>5.0</td>\n",
       "      <td>10.0</td>\n",
       "      <td>0</td>\n",
       "      <td>0</td>\n",
       "      <td>1993-1994</td>\n",
       "      <td>6</td>\n",
       "      <td>0</td>\n",
       "    </tr>\n",
       "    <tr>\n",
       "      <th>3</th>\n",
       "      <td>FC NANTES</td>\n",
       "      <td>4.0</td>\n",
       "      <td>3.0</td>\n",
       "      <td>1.0</td>\n",
       "      <td>1.0</td>\n",
       "      <td>5.0</td>\n",
       "      <td>2.0</td>\n",
       "      <td>5.0</td>\n",
       "      <td>5.0</td>\n",
       "      <td>5.0</td>\n",
       "      <td>...</td>\n",
       "      <td>1.0</td>\n",
       "      <td>5.0</td>\n",
       "      <td>1.0</td>\n",
       "      <td>1.0</td>\n",
       "      <td>10.0</td>\n",
       "      <td>0</td>\n",
       "      <td>0</td>\n",
       "      <td>1993-1994</td>\n",
       "      <td>6</td>\n",
       "      <td>0</td>\n",
       "    </tr>\n",
       "    <tr>\n",
       "      <th>4</th>\n",
       "      <td>AJ AUXERRE</td>\n",
       "      <td>9.0</td>\n",
       "      <td>1.0</td>\n",
       "      <td>3.0</td>\n",
       "      <td>1.0</td>\n",
       "      <td>4.0</td>\n",
       "      <td>3.0</td>\n",
       "      <td>3.0</td>\n",
       "      <td>5.0</td>\n",
       "      <td>1.0</td>\n",
       "      <td>...</td>\n",
       "      <td>5.0</td>\n",
       "      <td>1.0</td>\n",
       "      <td>5.0</td>\n",
       "      <td>5.0</td>\n",
       "      <td>10.0</td>\n",
       "      <td>3</td>\n",
       "      <td>2</td>\n",
       "      <td>1993-1994</td>\n",
       "      <td>6</td>\n",
       "      <td>1</td>\n",
       "    </tr>\n",
       "    <tr>\n",
       "      <th>...</th>\n",
       "      <td>...</td>\n",
       "      <td>...</td>\n",
       "      <td>...</td>\n",
       "      <td>...</td>\n",
       "      <td>...</td>\n",
       "      <td>...</td>\n",
       "      <td>...</td>\n",
       "      <td>...</td>\n",
       "      <td>...</td>\n",
       "      <td>...</td>\n",
       "      <td>...</td>\n",
       "      <td>...</td>\n",
       "      <td>...</td>\n",
       "      <td>...</td>\n",
       "      <td>...</td>\n",
       "      <td>...</td>\n",
       "      <td>...</td>\n",
       "      <td>...</td>\n",
       "      <td>...</td>\n",
       "      <td>...</td>\n",
       "      <td>...</td>\n",
       "    </tr>\n",
       "    <tr>\n",
       "      <th>8883</th>\n",
       "      <td>CLERMONT FOOT 63</td>\n",
       "      <td>12.0</td>\n",
       "      <td>8.0</td>\n",
       "      <td>6.0</td>\n",
       "      <td>10.0</td>\n",
       "      <td>24.0</td>\n",
       "      <td>33.0</td>\n",
       "      <td>3.0</td>\n",
       "      <td>3.0</td>\n",
       "      <td>1.0</td>\n",
       "      <td>...</td>\n",
       "      <td>1.0</td>\n",
       "      <td>5.0</td>\n",
       "      <td>1.0</td>\n",
       "      <td>5.0</td>\n",
       "      <td>10.0</td>\n",
       "      <td>1</td>\n",
       "      <td>1</td>\n",
       "      <td>2022-2023</td>\n",
       "      <td>25</td>\n",
       "      <td>0</td>\n",
       "    </tr>\n",
       "    <tr>\n",
       "      <th>8884</th>\n",
       "      <td>FC NANTES</td>\n",
       "      <td>13.0</td>\n",
       "      <td>6.0</td>\n",
       "      <td>10.0</td>\n",
       "      <td>8.0</td>\n",
       "      <td>25.0</td>\n",
       "      <td>29.0</td>\n",
       "      <td>3.0</td>\n",
       "      <td>1.0</td>\n",
       "      <td>5.0</td>\n",
       "      <td>...</td>\n",
       "      <td>5.0</td>\n",
       "      <td>1.0</td>\n",
       "      <td>1.0</td>\n",
       "      <td>5.0</td>\n",
       "      <td>10.0</td>\n",
       "      <td>0</td>\n",
       "      <td>1</td>\n",
       "      <td>2022-2023</td>\n",
       "      <td>25</td>\n",
       "      <td>2</td>\n",
       "    </tr>\n",
       "    <tr>\n",
       "      <th>8885</th>\n",
       "      <td>STADE DE REIMS</td>\n",
       "      <td>10.0</td>\n",
       "      <td>7.0</td>\n",
       "      <td>13.0</td>\n",
       "      <td>4.0</td>\n",
       "      <td>30.0</td>\n",
       "      <td>26.0</td>\n",
       "      <td>3.0</td>\n",
       "      <td>5.0</td>\n",
       "      <td>3.0</td>\n",
       "      <td>...</td>\n",
       "      <td>5.0</td>\n",
       "      <td>1.0</td>\n",
       "      <td>5.0</td>\n",
       "      <td>1.0</td>\n",
       "      <td>10.0</td>\n",
       "      <td>3</td>\n",
       "      <td>0</td>\n",
       "      <td>2022-2023</td>\n",
       "      <td>25</td>\n",
       "      <td>1</td>\n",
       "    </tr>\n",
       "    <tr>\n",
       "      <th>8886</th>\n",
       "      <td>AS MONACO</td>\n",
       "      <td>3.0</td>\n",
       "      <td>15.0</td>\n",
       "      <td>5.0</td>\n",
       "      <td>4.0</td>\n",
       "      <td>53.0</td>\n",
       "      <td>31.0</td>\n",
       "      <td>3.0</td>\n",
       "      <td>5.0</td>\n",
       "      <td>5.0</td>\n",
       "      <td>...</td>\n",
       "      <td>5.0</td>\n",
       "      <td>5.0</td>\n",
       "      <td>5.0</td>\n",
       "      <td>3.0</td>\n",
       "      <td>10.0</td>\n",
       "      <td>0</td>\n",
       "      <td>3</td>\n",
       "      <td>2022-2023</td>\n",
       "      <td>25</td>\n",
       "      <td>2</td>\n",
       "    </tr>\n",
       "    <tr>\n",
       "      <th>8887</th>\n",
       "      <td>OLYMPIQUE DE MARSEILLE</td>\n",
       "      <td>2.0</td>\n",
       "      <td>16.0</td>\n",
       "      <td>4.0</td>\n",
       "      <td>4.0</td>\n",
       "      <td>48.0</td>\n",
       "      <td>22.0</td>\n",
       "      <td>3.0</td>\n",
       "      <td>5.0</td>\n",
       "      <td>1.0</td>\n",
       "      <td>...</td>\n",
       "      <td>5.0</td>\n",
       "      <td>5.0</td>\n",
       "      <td>1.0</td>\n",
       "      <td>5.0</td>\n",
       "      <td>10.0</td>\n",
       "      <td>0</td>\n",
       "      <td>3</td>\n",
       "      <td>2022-2023</td>\n",
       "      <td>25</td>\n",
       "      <td>2</td>\n",
       "    </tr>\n",
       "  </tbody>\n",
       "</table>\n",
       "<p>8888 rows × 31 columns</p>\n",
       "</div>"
      ],
      "text/plain": [
       "                        Team  Position  NbMatchGagne  NbMatchNul  \\\n",
       "0                  AS MONACO       6.0           3.0         0.0   \n",
       "1                A.S. CANNES       1.0           3.0         2.0   \n",
       "2           AS SAINT-ÉTIENNE      13.0           1.0         2.0   \n",
       "3                  FC NANTES       4.0           3.0         1.0   \n",
       "4                 AJ AUXERRE       9.0           1.0         3.0   \n",
       "...                      ...       ...           ...         ...   \n",
       "8883        CLERMONT FOOT 63      12.0           8.0         6.0   \n",
       "8884               FC NANTES      13.0           6.0        10.0   \n",
       "8885          STADE DE REIMS      10.0           7.0        13.0   \n",
       "8886               AS MONACO       3.0          15.0         5.0   \n",
       "8887  OLYMPIQUE DE MARSEILLE       2.0          16.0         4.0   \n",
       "\n",
       "      NbMatchPerdu  NbButMis  NbButEnc  Forme5  Forme4  Forme3  ...  \\\n",
       "0              2.0       9.0       5.0     1.0     5.0     1.0  ...   \n",
       "1              0.0       8.0       5.0     5.0     5.0     3.0  ...   \n",
       "2              2.0       5.0       5.0     1.0     1.0     5.0  ...   \n",
       "3              1.0       5.0       2.0     5.0     5.0     5.0  ...   \n",
       "4              1.0       4.0       3.0     3.0     5.0     1.0  ...   \n",
       "...            ...       ...       ...     ...     ...     ...  ...   \n",
       "8883          10.0      24.0      33.0     3.0     3.0     1.0  ...   \n",
       "8884           8.0      25.0      29.0     3.0     1.0     5.0  ...   \n",
       "8885           4.0      30.0      26.0     3.0     5.0     3.0  ...   \n",
       "8886           4.0      53.0      31.0     3.0     5.0     5.0  ...   \n",
       "8887           4.0      48.0      22.0     3.0     5.0     1.0  ...   \n",
       "\n",
       "      Forme4_away  Forme3_away  Forme2_away Forme1_away  Sante_away  \\\n",
       "0             1.0          3.0          3.0         5.0        10.0   \n",
       "1             3.0          5.0          1.0         1.0        10.0   \n",
       "2             5.0          3.0          1.0         5.0        10.0   \n",
       "3             1.0          5.0          1.0         1.0        10.0   \n",
       "4             5.0          1.0          5.0         5.0        10.0   \n",
       "...           ...          ...          ...         ...         ...   \n",
       "8883          1.0          5.0          1.0         5.0        10.0   \n",
       "8884          5.0          1.0          1.0         5.0        10.0   \n",
       "8885          5.0          1.0          5.0         1.0        10.0   \n",
       "8886          5.0          5.0          5.0         3.0        10.0   \n",
       "8887          5.0          5.0          1.0         5.0        10.0   \n",
       "\n",
       "      home_score  away_score     saison  Journee  result  \n",
       "0              0           0  1993-1994        6       0  \n",
       "1              1           1  1993-1994        6       0  \n",
       "2              0           0  1993-1994        6       0  \n",
       "3              0           0  1993-1994        6       0  \n",
       "4              3           2  1993-1994        6       1  \n",
       "...          ...         ...        ...      ...     ...  \n",
       "8883           1           1  2022-2023       25       0  \n",
       "8884           0           1  2022-2023       25       2  \n",
       "8885           3           0  2022-2023       25       1  \n",
       "8886           0           3  2022-2023       25       2  \n",
       "8887           0           3  2022-2023       25       2  \n",
       "\n",
       "[8888 rows x 31 columns]"
      ]
     },
     "execution_count": 106,
     "metadata": {},
     "output_type": "execute_result"
    }
   ],
   "source": [
    "Ligue1"
   ]
  },
  {
   "cell_type": "code",
   "execution_count": 107,
   "id": "2354e275",
   "metadata": {},
   "outputs": [],
   "source": [
    "#Pourcentage de match nul"
   ]
  },
  {
   "cell_type": "code",
   "execution_count": 108,
   "id": "0cc86f4c",
   "metadata": {},
   "outputs": [
    {
     "name": "stdout",
     "output_type": "stream",
     "text": [
      "28.960396039603957\n"
     ]
    }
   ],
   "source": [
    "print((sum(Ligue1[\"result\"]==0)/len(Ligue1))*100)"
   ]
  },
  {
   "cell_type": "code",
   "execution_count": 109,
   "id": "26b9e9c4",
   "metadata": {},
   "outputs": [],
   "source": [
    "#Pourcentage de victoire à domicile"
   ]
  },
  {
   "cell_type": "code",
   "execution_count": 110,
   "id": "5b7d47e6",
   "metadata": {},
   "outputs": [
    {
     "name": "stdout",
     "output_type": "stream",
     "text": [
      "46.005850585058504\n"
     ]
    }
   ],
   "source": [
    "print((sum(Ligue1[\"result\"]==1)/len(Ligue1))*100)"
   ]
  },
  {
   "cell_type": "code",
   "execution_count": 111,
   "id": "cfb5b633",
   "metadata": {},
   "outputs": [],
   "source": [
    "#Pourcentage de victoire à l'éxtérieur"
   ]
  },
  {
   "cell_type": "code",
   "execution_count": 112,
   "id": "f386646e",
   "metadata": {},
   "outputs": [
    {
     "name": "stdout",
     "output_type": "stream",
     "text": [
      "25.033753375337536\n"
     ]
    }
   ],
   "source": [
    "print((sum(Ligue1[\"result\"]==2)/len(Ligue1))*100)"
   ]
  },
  {
   "cell_type": "markdown",
   "id": "7dddccf5",
   "metadata": {},
   "source": [
    "# 2.Nettoyage"
   ]
  },
  {
   "cell_type": "code",
   "execution_count": 113,
   "id": "eb294275",
   "metadata": {},
   "outputs": [],
   "source": [
    "#Supprime les matchs annuler ou reportés ceux avec un score de 99"
   ]
  },
  {
   "cell_type": "code",
   "execution_count": 114,
   "id": "442090c8",
   "metadata": {},
   "outputs": [],
   "source": [
    "Ligue1.drop(Ligue1[Ligue1['home_score']==99].index,inplace=True)"
   ]
  },
  {
   "cell_type": "code",
   "execution_count": 115,
   "id": "40a2907b",
   "metadata": {},
   "outputs": [],
   "source": [
    "#Ligue1"
   ]
  },
  {
   "cell_type": "code",
   "execution_count": 116,
   "id": "a479c904",
   "metadata": {},
   "outputs": [],
   "source": [
    "#Supression de colones inutiles"
   ]
  },
  {
   "cell_type": "code",
   "execution_count": 117,
   "id": "867890e1",
   "metadata": {},
   "outputs": [],
   "source": [
    "Ligue1=Ligue1.drop(['Sante','Team','Team_away','Sante_away','saison','Journee','home_score','away_score'],axis=1)"
   ]
  },
  {
   "cell_type": "code",
   "execution_count": 118,
   "id": "2920b9f0",
   "metadata": {},
   "outputs": [],
   "source": [
    "#Ligue1"
   ]
  },
  {
   "cell_type": "code",
   "execution_count": 119,
   "id": "df2e84e5",
   "metadata": {},
   "outputs": [],
   "source": [
    "#Supprimer les champs vide"
   ]
  },
  {
   "cell_type": "code",
   "execution_count": 120,
   "id": "6d11fd27",
   "metadata": {},
   "outputs": [],
   "source": [
    "Ligue1.dropna(axis=0,inplace=True)"
   ]
  },
  {
   "cell_type": "code",
   "execution_count": 121,
   "id": "bb21afa2",
   "metadata": {},
   "outputs": [],
   "source": [
    "#Ligue1"
   ]
  },
  {
   "cell_type": "code",
   "execution_count": 122,
   "id": "912f5925",
   "metadata": {},
   "outputs": [],
   "source": [
    "#inversion du classement home team"
   ]
  },
  {
   "cell_type": "code",
   "execution_count": 123,
   "id": "cbe39410",
   "metadata": {},
   "outputs": [],
   "source": [
    "#Ligue1['Position']=1/(Ligue1['Position'])"
   ]
  },
  {
   "cell_type": "code",
   "execution_count": 124,
   "id": "2db6add0",
   "metadata": {},
   "outputs": [],
   "source": [
    "Ligue1['Position']=(21)-(Ligue1['Position'])"
   ]
  },
  {
   "cell_type": "code",
   "execution_count": 125,
   "id": "b4f32b9c",
   "metadata": {},
   "outputs": [],
   "source": [
    "#inversion du classement away team"
   ]
  },
  {
   "cell_type": "code",
   "execution_count": 126,
   "id": "83e3b54f",
   "metadata": {},
   "outputs": [],
   "source": [
    "#Ligue1['Position_away']=1/(Ligue1['Position_away'])"
   ]
  },
  {
   "cell_type": "code",
   "execution_count": 127,
   "id": "7496b6b5",
   "metadata": {},
   "outputs": [],
   "source": [
    "Ligue1['Position_away']=(21)-(Ligue1['Position_away'])"
   ]
  },
  {
   "cell_type": "code",
   "execution_count": 128,
   "id": "c112ad5d",
   "metadata": {},
   "outputs": [],
   "source": [
    "#Ligue1.tail(22)"
   ]
  },
  {
   "cell_type": "markdown",
   "id": "3a1e74fd",
   "metadata": {},
   "source": [
    "# 3.Convertion du dataframe en tableau"
   ]
  },
  {
   "cell_type": "code",
   "execution_count": 129,
   "id": "8d05d7d7",
   "metadata": {},
   "outputs": [],
   "source": [
    "#Met y sous forme d'un tableau\n",
    "y=Ligue1[['result']].values"
   ]
  },
  {
   "cell_type": "code",
   "execution_count": 130,
   "id": "5ece1c6e",
   "metadata": {},
   "outputs": [],
   "source": [
    "#Met X sous forme de tableau"
   ]
  },
  {
   "cell_type": "code",
   "execution_count": 131,
   "id": "3fe658e0",
   "metadata": {},
   "outputs": [
    {
     "data": {
      "text/plain": [
       "(8353, 22)"
      ]
     },
     "execution_count": 131,
     "metadata": {},
     "output_type": "execute_result"
    }
   ],
   "source": [
    "X=Ligue1.drop('result',axis=1).values\n",
    "X.shape"
   ]
  },
  {
   "cell_type": "markdown",
   "id": "9fe5fbb8",
   "metadata": {},
   "source": [
    "# 4.Cross validation\n"
   ]
  },
  {
   "cell_type": "code",
   "execution_count": 132,
   "id": "9c14aa0f",
   "metadata": {},
   "outputs": [],
   "source": [
    "for train_index,test_index in KFold(3,shuffle=True, random_state=0).split(X):\n",
    "    X_train,X_test=X[train_index],X[test_index]\n",
    "    y_train,y_test=y[train_index],y[test_index]"
   ]
  },
  {
   "cell_type": "markdown",
   "id": "5e9b36f5",
   "metadata": {},
   "source": [
    "# 5.Création d'un réseau de Neurone Artificiel"
   ]
  },
  {
   "cell_type": "code",
   "execution_count": 133,
   "id": "0c161ad5",
   "metadata": {},
   "outputs": [
    {
     "name": "stdout",
     "output_type": "stream",
     "text": [
      "Model: \"sequential_1\"\n",
      "_________________________________________________________________\n",
      " Layer (type)                Output Shape              Param #   \n",
      "=================================================================\n",
      " dense_4 (Dense)             (None, 32)                736       \n",
      "                                                                 \n",
      " activation_2 (Activation)   (None, 32)                0         \n",
      "                                                                 \n",
      " dense_5 (Dense)             (None, 12)                396       \n",
      "                                                                 \n",
      " dense_6 (Dense)             (None, 12)                156       \n",
      "                                                                 \n",
      " dense_7 (Dense)             (None, 3)                 39        \n",
      "                                                                 \n",
      " activation_3 (Activation)   (None, 3)                 0         \n",
      "                                                                 \n",
      "=================================================================\n",
      "Total params: 1,327\n",
      "Trainable params: 1,327\n",
      "Non-trainable params: 0\n",
      "_________________________________________________________________\n"
     ]
    }
   ],
   "source": [
    "model = Sequential()\n",
    "\n",
    "model.add(Dense(32, input_dim=22))\n",
    "model.add(Activation('relu'))\n",
    "model.add(Dense(12))\n",
    "model.add(Dense(12))\n",
    "\n",
    "\n",
    "model.add(Dense(3))\n",
    "model.add(Activation('softmax'))\n",
    "model.compile(loss='sparse_categorical_crossentropy',optimizer='Adam',metrics=['sparse_categorical_accuracy'])\n",
    "\n",
    "model.summary()"
   ]
  },
  {
   "cell_type": "code",
   "execution_count": 134,
   "id": "c7659baa",
   "metadata": {},
   "outputs": [],
   "source": [
    "#Entraînement du model"
   ]
  },
  {
   "cell_type": "code",
   "execution_count": 135,
   "id": "8f5f55fb",
   "metadata": {},
   "outputs": [
    {
     "name": "stdout",
     "output_type": "stream",
     "text": [
      "Epoch 1/100\n",
      "175/175 [==============================] - 0s 845us/step - loss: 1.3268 - sparse_categorical_accuracy: 0.3954\n",
      "Epoch 2/100\n",
      "175/175 [==============================] - 0s 833us/step - loss: 1.0785 - sparse_categorical_accuracy: 0.4498\n",
      "Epoch 3/100\n",
      "175/175 [==============================] - 0s 845us/step - loss: 1.0628 - sparse_categorical_accuracy: 0.4532\n",
      "Epoch 4/100\n",
      "175/175 [==============================] - 0s 833us/step - loss: 1.0576 - sparse_categorical_accuracy: 0.4557\n",
      "Epoch 5/100\n",
      "175/175 [==============================] - 0s 839us/step - loss: 1.0603 - sparse_categorical_accuracy: 0.4620\n",
      "Epoch 6/100\n",
      "175/175 [==============================] - 0s 833us/step - loss: 1.0444 - sparse_categorical_accuracy: 0.4647\n",
      "Epoch 7/100\n",
      "175/175 [==============================] - 0s 856us/step - loss: 1.0424 - sparse_categorical_accuracy: 0.4706\n",
      "Epoch 8/100\n",
      "175/175 [==============================] - 0s 856us/step - loss: 1.0355 - sparse_categorical_accuracy: 0.4757\n",
      "Epoch 9/100\n",
      "175/175 [==============================] - 0s 845us/step - loss: 1.0391 - sparse_categorical_accuracy: 0.4730\n",
      "Epoch 10/100\n",
      "175/175 [==============================] - 0s 833us/step - loss: 1.0336 - sparse_categorical_accuracy: 0.4748\n",
      "Epoch 11/100\n",
      "175/175 [==============================] - 0s 851us/step - loss: 1.0292 - sparse_categorical_accuracy: 0.4807\n",
      "Epoch 12/100\n",
      "175/175 [==============================] - 0s 839us/step - loss: 1.0297 - sparse_categorical_accuracy: 0.4751\n",
      "Epoch 13/100\n",
      "175/175 [==============================] - 0s 833us/step - loss: 1.0287 - sparse_categorical_accuracy: 0.4805\n",
      "Epoch 14/100\n",
      "175/175 [==============================] - 0s 833us/step - loss: 1.0282 - sparse_categorical_accuracy: 0.4830\n",
      "Epoch 15/100\n",
      "175/175 [==============================] - 0s 839us/step - loss: 1.0319 - sparse_categorical_accuracy: 0.4864\n",
      "Epoch 16/100\n",
      "175/175 [==============================] - 0s 851us/step - loss: 1.0262 - sparse_categorical_accuracy: 0.4899\n",
      "Epoch 17/100\n",
      "175/175 [==============================] - 0s 828us/step - loss: 1.0339 - sparse_categorical_accuracy: 0.4739\n",
      "Epoch 18/100\n",
      "175/175 [==============================] - 0s 833us/step - loss: 1.0249 - sparse_categorical_accuracy: 0.4841\n",
      "Epoch 19/100\n",
      "175/175 [==============================] - 0s 828us/step - loss: 1.0250 - sparse_categorical_accuracy: 0.4873\n",
      "Epoch 20/100\n",
      "175/175 [==============================] - 0s 833us/step - loss: 1.0253 - sparse_categorical_accuracy: 0.4827\n",
      "Epoch 21/100\n",
      "175/175 [==============================] - 0s 828us/step - loss: 1.0234 - sparse_categorical_accuracy: 0.4866\n",
      "Epoch 22/100\n",
      "175/175 [==============================] - 0s 845us/step - loss: 1.0231 - sparse_categorical_accuracy: 0.4920\n",
      "Epoch 23/100\n",
      "175/175 [==============================] - 0s 822us/step - loss: 1.0234 - sparse_categorical_accuracy: 0.4918\n",
      "Epoch 24/100\n",
      "175/175 [==============================] - 0s 816us/step - loss: 1.0223 - sparse_categorical_accuracy: 0.4915\n",
      "Epoch 25/100\n",
      "175/175 [==============================] - 0s 845us/step - loss: 1.0217 - sparse_categorical_accuracy: 0.4879\n",
      "Epoch 26/100\n",
      "175/175 [==============================] - 0s 856us/step - loss: 1.0208 - sparse_categorical_accuracy: 0.4897\n",
      "Epoch 27/100\n",
      "175/175 [==============================] - 0s 833us/step - loss: 1.0210 - sparse_categorical_accuracy: 0.4886\n",
      "Epoch 28/100\n",
      "175/175 [==============================] - 0s 828us/step - loss: 1.0225 - sparse_categorical_accuracy: 0.4886\n",
      "Epoch 29/100\n",
      "175/175 [==============================] - 0s 856us/step - loss: 1.0189 - sparse_categorical_accuracy: 0.4936\n",
      "Epoch 30/100\n",
      "175/175 [==============================] - 0s 897us/step - loss: 1.0217 - sparse_categorical_accuracy: 0.4940\n",
      "Epoch 31/100\n",
      "175/175 [==============================] - 0s 874us/step - loss: 1.0180 - sparse_categorical_accuracy: 0.4956\n",
      "Epoch 32/100\n",
      "175/175 [==============================] - 0s 862us/step - loss: 1.0203 - sparse_categorical_accuracy: 0.4895\n",
      "Epoch 33/100\n",
      "175/175 [==============================] - 0s 845us/step - loss: 1.0187 - sparse_categorical_accuracy: 0.4958\n",
      "Epoch 34/100\n",
      "175/175 [==============================] - 0s 856us/step - loss: 1.0197 - sparse_categorical_accuracy: 0.4933\n",
      "Epoch 35/100\n",
      "175/175 [==============================] - 0s 828us/step - loss: 1.0172 - sparse_categorical_accuracy: 0.4951\n",
      "Epoch 36/100\n",
      "175/175 [==============================] - 0s 839us/step - loss: 1.0205 - sparse_categorical_accuracy: 0.4899\n",
      "Epoch 37/100\n",
      "175/175 [==============================] - 0s 851us/step - loss: 1.0185 - sparse_categorical_accuracy: 0.4952\n",
      "Epoch 38/100\n",
      "175/175 [==============================] - 0s 828us/step - loss: 1.0140 - sparse_categorical_accuracy: 0.4961\n",
      "Epoch 39/100\n",
      "175/175 [==============================] - 0s 833us/step - loss: 1.0175 - sparse_categorical_accuracy: 0.4942\n",
      "Epoch 40/100\n",
      "175/175 [==============================] - 0s 828us/step - loss: 1.0161 - sparse_categorical_accuracy: 0.4931\n",
      "Epoch 41/100\n",
      "175/175 [==============================] - 0s 833us/step - loss: 1.0153 - sparse_categorical_accuracy: 0.4949\n",
      "Epoch 42/100\n",
      "175/175 [==============================] - 0s 833us/step - loss: 1.0131 - sparse_categorical_accuracy: 0.4997\n",
      "Epoch 43/100\n",
      "175/175 [==============================] - 0s 885us/step - loss: 1.0153 - sparse_categorical_accuracy: 0.4943\n",
      "Epoch 44/100\n",
      "175/175 [==============================] - 0s 868us/step - loss: 1.0152 - sparse_categorical_accuracy: 0.4945\n",
      "Epoch 45/100\n",
      "175/175 [==============================] - 0s 828us/step - loss: 1.0134 - sparse_categorical_accuracy: 0.4983\n",
      "Epoch 46/100\n",
      "175/175 [==============================] - 0s 914us/step - loss: 1.0135 - sparse_categorical_accuracy: 0.4952\n",
      "Epoch 47/100\n",
      "175/175 [==============================] - 0s 839us/step - loss: 1.0121 - sparse_categorical_accuracy: 0.4999\n",
      "Epoch 48/100\n",
      "175/175 [==============================] - 0s 868us/step - loss: 1.0107 - sparse_categorical_accuracy: 0.4997\n",
      "Epoch 49/100\n",
      "175/175 [==============================] - 0s 833us/step - loss: 1.0134 - sparse_categorical_accuracy: 0.4934\n",
      "Epoch 50/100\n",
      "175/175 [==============================] - 0s 879us/step - loss: 1.0128 - sparse_categorical_accuracy: 0.4970\n",
      "Epoch 51/100\n",
      "175/175 [==============================] - 0s 908us/step - loss: 1.0118 - sparse_categorical_accuracy: 0.5019\n",
      "Epoch 52/100\n",
      "175/175 [==============================] - 0s 851us/step - loss: 1.0084 - sparse_categorical_accuracy: 0.5019\n",
      "Epoch 53/100\n",
      "175/175 [==============================] - 0s 851us/step - loss: 1.0124 - sparse_categorical_accuracy: 0.4999\n",
      "Epoch 54/100\n",
      "175/175 [==============================] - 0s 822us/step - loss: 1.0110 - sparse_categorical_accuracy: 0.4974\n",
      "Epoch 55/100\n",
      "175/175 [==============================] - 0s 828us/step - loss: 1.0095 - sparse_categorical_accuracy: 0.4979\n",
      "Epoch 56/100\n",
      "175/175 [==============================] - 0s 833us/step - loss: 1.0099 - sparse_categorical_accuracy: 0.5015\n",
      "Epoch 57/100\n",
      "175/175 [==============================] - 0s 914us/step - loss: 1.0091 - sparse_categorical_accuracy: 0.4990\n",
      "Epoch 58/100\n",
      "175/175 [==============================] - 0s 845us/step - loss: 1.0107 - sparse_categorical_accuracy: 0.4963\n",
      "Epoch 59/100\n",
      "175/175 [==============================] - 0s 839us/step - loss: 1.0091 - sparse_categorical_accuracy: 0.4994\n",
      "Epoch 60/100\n",
      "175/175 [==============================] - 0s 845us/step - loss: 1.0084 - sparse_categorical_accuracy: 0.5003\n",
      "Epoch 61/100\n",
      "175/175 [==============================] - 0s 833us/step - loss: 1.0103 - sparse_categorical_accuracy: 0.4990\n",
      "Epoch 62/100\n",
      "175/175 [==============================] - 0s 839us/step - loss: 1.0069 - sparse_categorical_accuracy: 0.5035\n",
      "Epoch 63/100\n",
      "175/175 [==============================] - 0s 833us/step - loss: 1.0068 - sparse_categorical_accuracy: 0.5057\n",
      "Epoch 64/100\n",
      "175/175 [==============================] - 0s 828us/step - loss: 1.0065 - sparse_categorical_accuracy: 0.5019\n",
      "Epoch 65/100\n",
      "175/175 [==============================] - 0s 822us/step - loss: 1.0068 - sparse_categorical_accuracy: 0.5089\n",
      "Epoch 66/100\n",
      "175/175 [==============================] - 0s 833us/step - loss: 1.0076 - sparse_categorical_accuracy: 0.4999\n",
      "Epoch 67/100\n"
     ]
    },
    {
     "name": "stdout",
     "output_type": "stream",
     "text": [
      "175/175 [==============================] - 0s 834us/step - loss: 1.0037 - sparse_categorical_accuracy: 0.4990\n",
      "Epoch 68/100\n",
      "175/175 [==============================] - 0s 833us/step - loss: 1.0080 - sparse_categorical_accuracy: 0.4999\n",
      "Epoch 69/100\n",
      "175/175 [==============================] - 0s 828us/step - loss: 1.0040 - sparse_categorical_accuracy: 0.5039\n",
      "Epoch 70/100\n",
      "175/175 [==============================] - 0s 828us/step - loss: 1.0037 - sparse_categorical_accuracy: 0.5004\n",
      "Epoch 71/100\n",
      "175/175 [==============================] - 0s 828us/step - loss: 1.0039 - sparse_categorical_accuracy: 0.5019\n",
      "Epoch 72/100\n",
      "175/175 [==============================] - 0s 833us/step - loss: 1.0043 - sparse_categorical_accuracy: 0.5087\n",
      "Epoch 73/100\n",
      "175/175 [==============================] - 0s 828us/step - loss: 1.0067 - sparse_categorical_accuracy: 0.5076\n",
      "Epoch 74/100\n",
      "175/175 [==============================] - 0s 839us/step - loss: 1.0057 - sparse_categorical_accuracy: 0.5044\n",
      "Epoch 75/100\n",
      "175/175 [==============================] - 0s 822us/step - loss: 1.0031 - sparse_categorical_accuracy: 0.5060\n",
      "Epoch 76/100\n",
      "175/175 [==============================] - 0s 828us/step - loss: 1.0026 - sparse_categorical_accuracy: 0.5057\n",
      "Epoch 77/100\n",
      "175/175 [==============================] - 0s 839us/step - loss: 1.0045 - sparse_categorical_accuracy: 0.5094\n",
      "Epoch 78/100\n",
      "175/175 [==============================] - 0s 851us/step - loss: 1.0015 - sparse_categorical_accuracy: 0.5013\n",
      "Epoch 79/100\n",
      "175/175 [==============================] - 0s 816us/step - loss: 1.0007 - sparse_categorical_accuracy: 0.5022\n",
      "Epoch 80/100\n",
      "175/175 [==============================] - 0s 839us/step - loss: 1.0032 - sparse_categorical_accuracy: 0.5026\n",
      "Epoch 81/100\n",
      "175/175 [==============================] - 0s 839us/step - loss: 1.0004 - sparse_categorical_accuracy: 0.5080\n",
      "Epoch 82/100\n",
      "175/175 [==============================] - 0s 845us/step - loss: 0.9998 - sparse_categorical_accuracy: 0.5098\n",
      "Epoch 83/100\n",
      "175/175 [==============================] - 0s 822us/step - loss: 0.9995 - sparse_categorical_accuracy: 0.5109\n",
      "Epoch 84/100\n",
      "175/175 [==============================] - 0s 828us/step - loss: 1.0003 - sparse_categorical_accuracy: 0.5103\n",
      "Epoch 85/100\n",
      "175/175 [==============================] - 0s 822us/step - loss: 0.9994 - sparse_categorical_accuracy: 0.5132\n",
      "Epoch 86/100\n",
      "175/175 [==============================] - 0s 828us/step - loss: 0.9989 - sparse_categorical_accuracy: 0.5096\n",
      "Epoch 87/100\n",
      "175/175 [==============================] - 0s 833us/step - loss: 1.0013 - sparse_categorical_accuracy: 0.5046\n",
      "Epoch 88/100\n",
      "175/175 [==============================] - 0s 879us/step - loss: 1.0016 - sparse_categorical_accuracy: 0.5064\n",
      "Epoch 89/100\n",
      "175/175 [==============================] - 0s 874us/step - loss: 0.9963 - sparse_categorical_accuracy: 0.5100\n",
      "Epoch 90/100\n",
      "175/175 [==============================] - 0s 868us/step - loss: 0.9980 - sparse_categorical_accuracy: 0.5110\n",
      "Epoch 91/100\n",
      "175/175 [==============================] - 0s 856us/step - loss: 0.9978 - sparse_categorical_accuracy: 0.5064\n",
      "Epoch 92/100\n",
      "175/175 [==============================] - 0s 845us/step - loss: 0.9969 - sparse_categorical_accuracy: 0.5110\n",
      "Epoch 93/100\n",
      "175/175 [==============================] - 0s 868us/step - loss: 0.9951 - sparse_categorical_accuracy: 0.5118\n",
      "Epoch 94/100\n",
      "175/175 [==============================] - 0s 896us/step - loss: 0.9984 - sparse_categorical_accuracy: 0.5040\n",
      "Epoch 95/100\n",
      "175/175 [==============================] - 0s 828us/step - loss: 0.9959 - sparse_categorical_accuracy: 0.5154\n",
      "Epoch 96/100\n",
      "175/175 [==============================] - 0s 828us/step - loss: 0.9965 - sparse_categorical_accuracy: 0.5119\n",
      "Epoch 97/100\n",
      "175/175 [==============================] - 0s 868us/step - loss: 0.9973 - sparse_categorical_accuracy: 0.5040\n",
      "Epoch 98/100\n",
      "175/175 [==============================] - 0s 879us/step - loss: 0.9929 - sparse_categorical_accuracy: 0.5146\n",
      "Epoch 99/100\n",
      "175/175 [==============================] - 0s 862us/step - loss: 0.9958 - sparse_categorical_accuracy: 0.5118\n",
      "Epoch 100/100\n",
      "175/175 [==============================] - 0s 844us/step - loss: 0.9943 - sparse_categorical_accuracy: 0.5119\n"
     ]
    },
    {
     "data": {
      "text/plain": [
       "<keras.callbacks.History at 0x157666b2c10>"
      ]
     },
     "execution_count": 135,
     "metadata": {},
     "output_type": "execute_result"
    }
   ],
   "source": [
    "model.fit(X_train,y_train,epochs=100,batch_size=32,verbose=1)"
   ]
  },
  {
   "cell_type": "code",
   "execution_count": 136,
   "id": "b1ee3bfc",
   "metadata": {},
   "outputs": [],
   "source": [
    "#Evaluation du model"
   ]
  },
  {
   "cell_type": "code",
   "execution_count": 137,
   "id": "5805c174",
   "metadata": {},
   "outputs": [
    {
     "name": "stdout",
     "output_type": "stream",
     "text": [
      "87/87 [==============================] - 0s 698us/step - loss: 1.0550 - sparse_categorical_accuracy: 0.4716\n"
     ]
    }
   ],
   "source": [
    "test_loss, test_accuracy= model.evaluate(X_test,y_test)"
   ]
  },
  {
   "cell_type": "markdown",
   "id": "4e65023f",
   "metadata": {},
   "source": [
    "# 6.Prédiction"
   ]
  },
  {
   "cell_type": "code",
   "execution_count": 138,
   "id": "c5c7fd31",
   "metadata": {},
   "outputs": [],
   "source": [
    "#Prédiction / Chargement de la data à prédire"
   ]
  },
  {
   "cell_type": "code",
   "execution_count": 139,
   "id": "fcba74f2",
   "metadata": {},
   "outputs": [],
   "source": [
    "match_futur=pd.read_csv(\"Data/Prevision24.csv\",sep=';',encoding = \"ISO-8859-1\")"
   ]
  },
  {
   "cell_type": "code",
   "execution_count": 140,
   "id": "8ff7a0fa",
   "metadata": {},
   "outputs": [],
   "source": [
    "match_a_predir=match_futur"
   ]
  },
  {
   "cell_type": "code",
   "execution_count": 141,
   "id": "ad63080a",
   "metadata": {},
   "outputs": [],
   "source": [
    "#Supression des noms d'équipe"
   ]
  },
  {
   "cell_type": "code",
   "execution_count": 142,
   "id": "8f74bf82",
   "metadata": {},
   "outputs": [],
   "source": [
    "match_a_predir=match_a_predir.drop('Team',axis=1)"
   ]
  },
  {
   "cell_type": "code",
   "execution_count": 143,
   "id": "91ff096b",
   "metadata": {},
   "outputs": [],
   "source": [
    "match_a_predir=match_a_predir.drop('Team_away',axis=1)"
   ]
  },
  {
   "cell_type": "code",
   "execution_count": 144,
   "id": "b0ff4aa9",
   "metadata": {},
   "outputs": [],
   "source": [
    "#inversion des postions"
   ]
  },
  {
   "cell_type": "code",
   "execution_count": 145,
   "id": "21eaa017",
   "metadata": {},
   "outputs": [],
   "source": [
    "match_a_predir['Position']=(21)-(match_a_predir['Position'])"
   ]
  },
  {
   "cell_type": "code",
   "execution_count": 146,
   "id": "7438ac34",
   "metadata": {},
   "outputs": [],
   "source": [
    "match_a_predir['Position_away']=(21)-(match_a_predir['Position_away'])"
   ]
  },
  {
   "cell_type": "code",
   "execution_count": 147,
   "id": "5343a32a",
   "metadata": {},
   "outputs": [],
   "source": [
    "X_pred=match_a_predir.values"
   ]
  },
  {
   "cell_type": "code",
   "execution_count": 148,
   "id": "804b6f50",
   "metadata": {},
   "outputs": [
    {
     "name": "stdout",
     "output_type": "stream",
     "text": [
      "1/1 [==============================] - 0s 48ms/step\n"
     ]
    }
   ],
   "source": [
    "prediction=model.predict(X_pred)"
   ]
  },
  {
   "cell_type": "code",
   "execution_count": 149,
   "id": "560a0fc5",
   "metadata": {},
   "outputs": [],
   "source": [
    "#prediction"
   ]
  },
  {
   "cell_type": "code",
   "execution_count": 150,
   "id": "622fae57",
   "metadata": {},
   "outputs": [
    {
     "name": "stdout",
     "output_type": "stream",
     "text": [
      "AJ AUXERRE  VS  OLYMPIQUE LYONNAIS\n",
      "Vicoire pour  OLYMPIQUE LYONNAIS \n",
      "\n",
      "OGC NICE  VS  STADE DE REIMS\n",
      "Vicoire pour  OGC NICE \n",
      "\n",
      "RC STRASBOURG ALSACE  VS  ANGERS SCO\n",
      "Match nul\n",
      "\n",
      "PARIS SAINT-GERMAIN  VS  LOSC LILLE\n",
      "Vicoire pour  PARIS SAINT-GERMAIN \n",
      "\n",
      "STADE BRESTOIS 29  VS  AS MONACO\n",
      "Vicoire pour  AS MONACO \n",
      "\n",
      "FC LORIENT  VS  AC AJACCIO\n",
      "Vicoire pour  FC LORIENT \n",
      "\n",
      "STADE RENNAIS FC  VS  CLERMONT FOOT 63\n",
      "Vicoire pour  STADE RENNAIS FC \n",
      "\n",
      "ESTAC TROYES  VS  MONTPELLIER HÉRAULT SC\n",
      "Vicoire pour  MONTPELLIER HÉRAULT SC \n",
      "\n",
      "RC LENS  VS  FC NANTES\n",
      "Vicoire pour  RC LENS \n",
      "\n",
      "TOULOUSE FC  VS  OLYMPIQUE DE MARSEILLE\n",
      "Vicoire pour  OLYMPIQUE DE MARSEILLE \n",
      "\n"
     ]
    }
   ],
   "source": [
    "i=0\n",
    "for pred in prediction:\n",
    "    print ( match_futur[\"Team\"][i],\" VS \",match_futur[\"Team_away\"][i])\n",
    "    if (np.argmax(pred))==0:\n",
    "        print(\"Match nul\\n\")\n",
    "    elif (np.argmax(pred))==1:\n",
    "        print(\"Vicoire pour \",match_futur[\"Team\"][i],\"\\n\")\n",
    "    elif (np.argmax(pred))==2:\n",
    "        print(\"Vicoire pour \",match_futur[\"Team_away\"][i],\"\\n\")\n",
    "    #Affiche la catégorie de la prédiction\n",
    "    #print (np.argmax(pred))\n",
    "    i=i+1"
   ]
  },
  {
   "cell_type": "code",
   "execution_count": null,
   "id": "11124c1d",
   "metadata": {},
   "outputs": [],
   "source": []
  }
 ],
 "metadata": {
  "kernelspec": {
   "display_name": "Python 3 (ipykernel)",
   "language": "python",
   "name": "python3"
  },
  "language_info": {
   "codemirror_mode": {
    "name": "ipython",
    "version": 3
   },
   "file_extension": ".py",
   "mimetype": "text/x-python",
   "name": "python",
   "nbconvert_exporter": "python",
   "pygments_lexer": "ipython3",
   "version": "3.9.12"
  }
 },
 "nbformat": 4,
 "nbformat_minor": 5
}
